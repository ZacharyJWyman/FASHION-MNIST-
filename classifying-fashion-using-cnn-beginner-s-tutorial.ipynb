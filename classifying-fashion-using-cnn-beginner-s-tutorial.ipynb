{
 "cells": [
  {
   "cell_type": "markdown",
   "metadata": {
    "papermill": {
     "duration": 0.021656,
     "end_time": "2020-09-11T23:01:05.207756",
     "exception": false,
     "start_time": "2020-09-11T23:01:05.186100",
     "status": "completed"
    },
    "tags": []
   },
   "source": [
    "# Classifying Fashion Using CNN: A Beginner's Tutorial"
   ]
  },
  {
   "cell_type": "markdown",
   "metadata": {
    "papermill": {
     "duration": 0.020113,
     "end_time": "2020-09-11T23:01:05.248976",
     "exception": false,
     "start_time": "2020-09-11T23:01:05.228863",
     "status": "completed"
    },
    "tags": []
   },
   "source": [
    "### References\n",
    "\n",
    "* Excellent notebook by Pavan: https://www.kaggle.com/pavansanagapati/a-simple-cnn-model-beginner-guide"
   ]
  },
  {
   "cell_type": "code",
   "execution_count": 1,
   "metadata": {
    "_cell_guid": "b1076dfc-b9ad-4769-8c92-a6c4dae69d19",
    "_uuid": "8f2839f25d086af736a60e9eeb907d3b93b6e0e5",
    "execution": {
     "iopub.execute_input": "2020-09-11T23:01:05.304574Z",
     "iopub.status.busy": "2020-09-11T23:01:05.303829Z",
     "iopub.status.idle": "2020-09-11T23:01:05.321308Z",
     "shell.execute_reply": "2020-09-11T23:01:05.319735Z"
    },
    "papermill": {
     "duration": 0.048605,
     "end_time": "2020-09-11T23:01:05.321785",
     "exception": false,
     "start_time": "2020-09-11T23:01:05.273180",
     "status": "completed"
    },
    "tags": []
   },
   "outputs": [
    {
     "name": "stdout",
     "output_type": "stream",
     "text": [
      "/kaggle/input/fashionmnist/t10k-images-idx3-ubyte\n",
      "/kaggle/input/fashionmnist/train-labels-idx1-ubyte\n",
      "/kaggle/input/fashionmnist/fashion-mnist_train.csv\n",
      "/kaggle/input/fashionmnist/train-images-idx3-ubyte\n",
      "/kaggle/input/fashionmnist/t10k-labels-idx1-ubyte\n",
      "/kaggle/input/fashionmnist/fashion-mnist_test.csv\n"
     ]
    }
   ],
   "source": [
    "# This Python 3 environment comes with many helpful analytics libraries installed\n",
    "# It is defined by the kaggle/python Docker image: https://github.com/kaggle/docker-python\n",
    "# For example, here's several helpful packages to load\n",
    "\n",
    "import numpy as np # linear algebra\n",
    "import pandas as pd # data processing, CSV file I/O (e.g. pd.read_csv)\n",
    "\n",
    "# Input data files are available in the read-only \"../input/\" directory\n",
    "# For example, running this (by clicking run or pressing Shift+Enter) will list all files under the input directory\n",
    "\n",
    "import os\n",
    "for dirname, _, filenames in os.walk('/kaggle/input'):\n",
    "    for filename in filenames:\n",
    "        print(os.path.join(dirname, filename))\n",
    "\n",
    "# You can write up to 5GB to the current directory (/kaggle/working/) that gets preserved as output when you create a version using \"Save & Run All\" \n",
    "# You can also write temporary files to /kaggle/temp/, but they won't be saved outside of the current session"
   ]
  },
  {
   "cell_type": "markdown",
   "metadata": {
    "papermill": {
     "duration": 0.024849,
     "end_time": "2020-09-11T23:01:05.376166",
     "exception": false,
     "start_time": "2020-09-11T23:01:05.351317",
     "status": "completed"
    },
    "tags": []
   },
   "source": [
    "## Data"
   ]
  },
  {
   "cell_type": "code",
   "execution_count": 2,
   "metadata": {
    "_cell_guid": "79c7e3d0-c299-4dcb-8224-4455121ee9b0",
    "_uuid": "d629ff2d2480ee46fbb7e2d37f6b5fab8052498a",
    "execution": {
     "iopub.execute_input": "2020-09-11T23:01:05.438915Z",
     "iopub.status.busy": "2020-09-11T23:01:05.437389Z",
     "iopub.status.idle": "2020-09-11T23:01:13.382712Z",
     "shell.execute_reply": "2020-09-11T23:01:13.381599Z"
    },
    "papermill": {
     "duration": 7.983273,
     "end_time": "2020-09-11T23:01:13.382929",
     "exception": false,
     "start_time": "2020-09-11T23:01:05.399656",
     "status": "completed"
    },
    "tags": []
   },
   "outputs": [],
   "source": [
    "train = pd.read_csv('/kaggle/input/fashionmnist/fashion-mnist_train.csv')\n",
    "test = pd.read_csv('/kaggle/input/fashionmnist/fashion-mnist_test.csv')"
   ]
  },
  {
   "cell_type": "code",
   "execution_count": 3,
   "metadata": {
    "execution": {
     "iopub.execute_input": "2020-09-11T23:01:13.435546Z",
     "iopub.status.busy": "2020-09-11T23:01:13.434873Z",
     "iopub.status.idle": "2020-09-11T23:01:13.447435Z",
     "shell.execute_reply": "2020-09-11T23:01:13.447933Z"
    },
    "papermill": {
     "duration": 0.038964,
     "end_time": "2020-09-11T23:01:13.448087",
     "exception": false,
     "start_time": "2020-09-11T23:01:13.409123",
     "status": "completed"
    },
    "tags": []
   },
   "outputs": [
    {
     "data": {
      "text/plain": [
       "(label       int64\n",
       " pixel1      int64\n",
       " pixel2      int64\n",
       " pixel3      int64\n",
       " pixel4      int64\n",
       "             ...  \n",
       " pixel780    int64\n",
       " pixel781    int64\n",
       " pixel782    int64\n",
       " pixel783    int64\n",
       " pixel784    int64\n",
       " Length: 785, dtype: object,\n",
       " label       int64\n",
       " pixel1      int64\n",
       " pixel2      int64\n",
       " pixel3      int64\n",
       " pixel4      int64\n",
       "             ...  \n",
       " pixel780    int64\n",
       " pixel781    int64\n",
       " pixel782    int64\n",
       " pixel783    int64\n",
       " pixel784    int64\n",
       " Length: 785, dtype: object)"
      ]
     },
     "execution_count": 3,
     "metadata": {},
     "output_type": "execute_result"
    }
   ],
   "source": [
    "train.dtypes, test.dtypes"
   ]
  },
  {
   "cell_type": "markdown",
   "metadata": {
    "papermill": {
     "duration": 0.025306,
     "end_time": "2020-09-11T23:01:13.499534",
     "exception": false,
     "start_time": "2020-09-11T23:01:13.474228",
     "status": "completed"
    },
    "tags": []
   },
   "source": [
    "Keras and Tensorflow use numpy 32 arrays and so we must convert"
   ]
  },
  {
   "cell_type": "code",
   "execution_count": 4,
   "metadata": {
    "execution": {
     "iopub.execute_input": "2020-09-11T23:01:13.553875Z",
     "iopub.status.busy": "2020-09-11T23:01:13.552316Z",
     "iopub.status.idle": "2020-09-11T23:01:13.766649Z",
     "shell.execute_reply": "2020-09-11T23:01:13.766066Z"
    },
    "papermill": {
     "duration": 0.240997,
     "end_time": "2020-09-11T23:01:13.766789",
     "exception": false,
     "start_time": "2020-09-11T23:01:13.525792",
     "status": "completed"
    },
    "tags": []
   },
   "outputs": [],
   "source": [
    "#splitting data into labels\n",
    "y_train = train['label']\n",
    "y_test = test['label']\n",
    "X_train = train.drop(labels = ['label'], axis=1)\n",
    "X_test = test.drop(labels = ['label'], axis = 1)"
   ]
  },
  {
   "cell_type": "code",
   "execution_count": 5,
   "metadata": {
    "execution": {
     "iopub.execute_input": "2020-09-11T23:01:13.818191Z",
     "iopub.status.busy": "2020-09-11T23:01:13.817161Z",
     "iopub.status.idle": "2020-09-11T23:01:14.078867Z",
     "shell.execute_reply": "2020-09-11T23:01:14.078264Z"
    },
    "papermill": {
     "duration": 0.290249,
     "end_time": "2020-09-11T23:01:14.078992",
     "exception": false,
     "start_time": "2020-09-11T23:01:13.788743",
     "status": "completed"
    },
    "tags": []
   },
   "outputs": [],
   "source": [
    "X_train = np.array(X_train, dtype = 'float32')\n",
    "X_test = np.array(X_test, dtype = 'float32')\n",
    "y_train = np.array(y_train, dtype = 'float32')\n",
    "y_test = np.array(y_test, dtype = 'float32')"
   ]
  },
  {
   "cell_type": "markdown",
   "metadata": {
    "papermill": {
     "duration": 0.021727,
     "end_time": "2020-09-11T23:01:14.123173",
     "exception": false,
     "start_time": "2020-09-11T23:01:14.101446",
     "status": "completed"
    },
    "tags": []
   },
   "source": [
    "## Examining the DataSet"
   ]
  },
  {
   "cell_type": "code",
   "execution_count": 6,
   "metadata": {
    "execution": {
     "iopub.execute_input": "2020-09-11T23:01:14.173037Z",
     "iopub.status.busy": "2020-09-11T23:01:14.172025Z",
     "iopub.status.idle": "2020-09-11T23:01:14.283680Z",
     "shell.execute_reply": "2020-09-11T23:01:14.284256Z"
    },
    "papermill": {
     "duration": 0.139691,
     "end_time": "2020-09-11T23:01:14.284424",
     "exception": false,
     "start_time": "2020-09-11T23:01:14.144733",
     "status": "completed"
    },
    "tags": []
   },
   "outputs": [
    {
     "data": {
      "text/plain": [
       "(0, 255)"
      ]
     },
     "execution_count": 6,
     "metadata": {},
     "output_type": "execute_result"
    }
   ],
   "source": [
    "train.values.min(), train.values.max()"
   ]
  },
  {
   "cell_type": "markdown",
   "metadata": {
    "papermill": {
     "duration": 0.023866,
     "end_time": "2020-09-11T23:01:14.330453",
     "exception": false,
     "start_time": "2020-09-11T23:01:14.306587",
     "status": "completed"
    },
    "tags": []
   },
   "source": [
    "We can see above that the pixel range is between 0 & 255. We need to rescale our data to a 0-1 scale for our model to perform accurately. We can do this by dividing each value by 255."
   ]
  },
  {
   "cell_type": "code",
   "execution_count": 7,
   "metadata": {
    "execution": {
     "iopub.execute_input": "2020-09-11T23:01:14.385040Z",
     "iopub.status.busy": "2020-09-11T23:01:14.382903Z",
     "iopub.status.idle": "2020-09-11T23:01:14.478115Z",
     "shell.execute_reply": "2020-09-11T23:01:14.477466Z"
    },
    "papermill": {
     "duration": 0.124428,
     "end_time": "2020-09-11T23:01:14.478238",
     "exception": false,
     "start_time": "2020-09-11T23:01:14.353810",
     "status": "completed"
    },
    "tags": []
   },
   "outputs": [],
   "source": [
    "X_train, X_test = X_train / 255, X_test / 255"
   ]
  },
  {
   "cell_type": "code",
   "execution_count": 8,
   "metadata": {
    "execution": {
     "iopub.execute_input": "2020-09-11T23:01:14.530677Z",
     "iopub.status.busy": "2020-09-11T23:01:14.529936Z",
     "iopub.status.idle": "2020-09-11T23:01:16.576762Z",
     "shell.execute_reply": "2020-09-11T23:01:16.576158Z"
    },
    "papermill": {
     "duration": 2.075068,
     "end_time": "2020-09-11T23:01:16.576874",
     "exception": false,
     "start_time": "2020-09-11T23:01:14.501806",
     "status": "completed"
    },
    "tags": []
   },
   "outputs": [],
   "source": [
    "from sklearn.model_selection import train_test_split\n",
    "X_train, X_valid, y_train, y_valid = train_test_split(X_train, y_train, test_size = 0.2, random_state = 42)"
   ]
  },
  {
   "cell_type": "markdown",
   "metadata": {
    "papermill": {
     "duration": 0.022528,
     "end_time": "2020-09-11T23:01:16.622169",
     "exception": false,
     "start_time": "2020-09-11T23:01:16.599641",
     "status": "completed"
    },
    "tags": []
   },
   "source": [
    "We need to create class names as detailed in the data reference."
   ]
  },
  {
   "cell_type": "code",
   "execution_count": 9,
   "metadata": {
    "execution": {
     "iopub.execute_input": "2020-09-11T23:01:16.671386Z",
     "iopub.status.busy": "2020-09-11T23:01:16.670362Z",
     "iopub.status.idle": "2020-09-11T23:01:16.955993Z",
     "shell.execute_reply": "2020-09-11T23:01:16.956854Z"
    },
    "papermill": {
     "duration": 0.312412,
     "end_time": "2020-09-11T23:01:16.957010",
     "exception": false,
     "start_time": "2020-09-11T23:01:16.644598",
     "status": "completed"
    },
    "tags": []
   },
   "outputs": [
    {
     "data": {
      "text/plain": [
       "Text(0.5, 1.0, 'Sandal')"
      ]
     },
     "execution_count": 9,
     "metadata": {},
     "output_type": "execute_result"
    },
    {
     "data": {
      "image/png": "[encoded data removed]",
      "text/plain": [
       "<Figure size 432x288 with 1 Axes>"
      ]
     },
     "metadata": {
      "needs_background": "light"
     },
     "output_type": "display_data"
    }
   ],
   "source": [
    "import matplotlib.pyplot as plt\n",
    "class_names = ['T_shirt/top', 'Trouser', 'Pullover', 'Dress', 'Coat', \n",
    "               'Sandal', 'Shirt', 'Sneaker', 'Bag', 'Ankle boot']\n",
    "\n",
    "plt.imshow(X_train[0].reshape(28,28))\n",
    "label = int(y_train[0])\n",
    "plt.title(class_names[label])"
   ]
  },
  {
   "cell_type": "markdown",
   "metadata": {
    "papermill": {
     "duration": 0.025637,
     "end_time": "2020-09-11T23:01:17.006875",
     "exception": false,
     "start_time": "2020-09-11T23:01:16.981238",
     "status": "completed"
    },
    "tags": []
   },
   "source": [
    "Before we feed the data to our model we need to shape the data so that the CNN can accurately depict each image."
   ]
  },
  {
   "cell_type": "code",
   "execution_count": 10,
   "metadata": {
    "execution": {
     "iopub.execute_input": "2020-09-11T23:01:17.063856Z",
     "iopub.status.busy": "2020-09-11T23:01:17.062965Z",
     "iopub.status.idle": "2020-09-11T23:01:17.066455Z",
     "shell.execute_reply": "2020-09-11T23:01:17.067058Z"
    },
    "papermill": {
     "duration": 0.036268,
     "end_time": "2020-09-11T23:01:17.067197",
     "exception": false,
     "start_time": "2020-09-11T23:01:17.030929",
     "status": "completed"
    },
    "tags": []
   },
   "outputs": [
    {
     "data": {
      "text/plain": [
       "(48000, 28, 28, 1)"
      ]
     },
     "execution_count": 10,
     "metadata": {},
     "output_type": "execute_result"
    }
   ],
   "source": [
    "X_train = X_train.reshape(X_train.shape[0], 28, 28, 1)\n",
    "X_test = X_test.reshape(X_test.shape[0], 28, 28, 1)\n",
    "X_valid = X_valid.reshape(X_valid.shape[0], 28, 28, 1)\n",
    "X_train.shape"
   ]
  },
  {
   "cell_type": "markdown",
   "metadata": {
    "papermill": {
     "duration": 0.024524,
     "end_time": "2020-09-11T23:01:17.116069",
     "exception": false,
     "start_time": "2020-09-11T23:01:17.091545",
     "status": "completed"
    },
    "tags": []
   },
   "source": [
    "Our code now has 48,000 rows with 28 * 28 pixels each forming an image."
   ]
  },
  {
   "cell_type": "markdown",
   "metadata": {
    "papermill": {
     "duration": 0.023898,
     "end_time": "2020-09-11T23:01:17.164794",
     "exception": false,
     "start_time": "2020-09-11T23:01:17.140896",
     "status": "completed"
    },
    "tags": []
   },
   "source": [
    "### Setting up a Model\n",
    "* We will use a Sequential model to classify the images.\n",
    "* A sequential model will take in a flatten layer which will convert our two dimensional array to a one dimensional array. (28 X 28 = 784; if you look at the shape of the data you can see that it is 28 X 28 if we want to create an image, shown above).\n",
    "* We will also instantiate Dense layers which are fully connected nueral layers. These layers have a lot of parameters along with weights and biases. If you call model.layers[1] you will get the first layer and can then call model.layers[1].weights to get the associated weights for that layer.\n",
    "* The last Dense layer will be however many classes there are. For this model we will be using 10 different classes. This layer returns an array of proabilities associated with how likely that the current image belongs to each class. Remember, 10 different classes, therefore 10 values in the array with sum(probabilities) = 1. The highest probability in the array will be the class assigned to the image. "
   ]
  },
  {
   "cell_type": "code",
   "execution_count": 11,
   "metadata": {
    "execution": {
     "iopub.execute_input": "2020-09-11T23:01:17.217154Z",
     "iopub.status.busy": "2020-09-11T23:01:17.216120Z",
     "iopub.status.idle": "2020-09-11T23:01:24.272134Z",
     "shell.execute_reply": "2020-09-11T23:01:24.270918Z"
    },
    "papermill": {
     "duration": 7.083369,
     "end_time": "2020-09-11T23:01:24.272328",
     "exception": false,
     "start_time": "2020-09-11T23:01:17.188959",
     "status": "completed"
    },
    "tags": []
   },
   "outputs": [
    {
     "name": "stdout",
     "output_type": "stream",
     "text": [
      "Model: \"sequential\"\n",
      "_________________________________________________________________\n",
      "Layer (type)                 Output Shape              Param #   \n",
      "=================================================================\n",
      "conv2d (Conv2D)              (None, 26, 26, 32)        320       \n",
      "_________________________________________________________________\n",
      "max_pooling2d (MaxPooling2D) (None, 13, 13, 32)        0         \n",
      "_________________________________________________________________\n",
      "dropout (Dropout)            (None, 13, 13, 32)        0         \n",
      "_________________________________________________________________\n",
      "flatten (Flatten)            (None, 5408)              0         \n",
      "_________________________________________________________________\n",
      "dense (Dense)                (None, 32)                173088    \n",
      "_________________________________________________________________\n",
      "dense_1 (Dense)              (None, 10)                330       \n",
      "=================================================================\n",
      "Total params: 173,738\n",
      "Trainable params: 173,738\n",
      "Non-trainable params: 0\n",
      "_________________________________________________________________\n"
     ]
    }
   ],
   "source": [
    "from keras.models import Sequential\n",
    "from keras.layers import Flatten, MaxPooling2D, Dropout, Dense, Conv2D\n",
    "\n",
    "model = Sequential()\n",
    "\n",
    "model.add(Conv2D(filters = 32, kernel_size = 3, activation = 'relu', input_shape = [28,28, 1]))\n",
    "\n",
    "model.add(MaxPooling2D(pool_size = (2)))\n",
    "model.add(Dropout(0.25)) # reduces overfitting\n",
    "model.add(Flatten())\n",
    "model.add(Dense(32, activation = 'relu'))\n",
    "model.add(Dense(10, activation = 'softmax'))\n",
    "\n",
    "model.summary()"
   ]
  },
  {
   "cell_type": "markdown",
   "metadata": {
    "papermill": {
     "duration": 0.024816,
     "end_time": "2020-09-11T23:01:24.328922",
     "exception": false,
     "start_time": "2020-09-11T23:01:24.304106",
     "status": "completed"
    },
    "tags": []
   },
   "source": [
    "## Compiling \n",
    "* Loss: We will use sparse_categorical_crossentropy as we have are solving a multiclass machine learning problem (10 classes). If we were doing one-hot we would use categorical crossentropy but that is not appropriate for this model. \n",
    "* Optimizer: Adam is widely used and a good start for beginners. (Descriptionon adam here later)\n",
    "* Metrics: in this model we will be using accuracy. This measures how many images are correcntly classified. One of the more simplistic metrics and good for beginners as generally we want to know how many images we classified correctly"
   ]
  },
  {
   "cell_type": "code",
   "execution_count": 12,
   "metadata": {
    "execution": {
     "iopub.execute_input": "2020-09-11T23:01:24.391754Z",
     "iopub.status.busy": "2020-09-11T23:01:24.390720Z",
     "iopub.status.idle": "2020-09-11T23:01:24.397718Z",
     "shell.execute_reply": "2020-09-11T23:01:24.397144Z"
    },
    "papermill": {
     "duration": 0.04451,
     "end_time": "2020-09-11T23:01:24.397828",
     "exception": false,
     "start_time": "2020-09-11T23:01:24.353318",
     "status": "completed"
    },
    "tags": []
   },
   "outputs": [],
   "source": [
    "from keras.optimizers import Adam\n",
    "model.compile(loss ='sparse_categorical_crossentropy', optimizer=Adam(lr=0.001),metrics =['accuracy'])"
   ]
  },
  {
   "cell_type": "markdown",
   "metadata": {
    "papermill": {
     "duration": 0.023974,
     "end_time": "2020-09-11T23:01:24.446244",
     "exception": false,
     "start_time": "2020-09-11T23:01:24.422270",
     "status": "completed"
    },
    "tags": []
   },
   "source": [
    "### Early Stopping\n",
    "\n",
    "I am going to use early stopping to save training time in case we don't improve our model accuracy."
   ]
  },
  {
   "cell_type": "code",
   "execution_count": 13,
   "metadata": {
    "execution": {
     "iopub.execute_input": "2020-09-11T23:01:24.502095Z",
     "iopub.status.busy": "2020-09-11T23:01:24.501410Z",
     "iopub.status.idle": "2020-09-11T23:01:24.504957Z",
     "shell.execute_reply": "2020-09-11T23:01:24.505751Z"
    },
    "papermill": {
     "duration": 0.034842,
     "end_time": "2020-09-11T23:01:24.505930",
     "exception": false,
     "start_time": "2020-09-11T23:01:24.471088",
     "status": "completed"
    },
    "tags": []
   },
   "outputs": [],
   "source": [
    "#if we want to implement early stopping to save training time we can modify below as model.fit(X_train, y_train, batch_size = 128, epochs = 50, verbose = 1,\n",
    "#validation_data = (X_valid, y_valid), callbacks = stop)\n",
    "\n",
    "from keras.callbacks import EarlyStopping\n",
    "stop = EarlyStopping(patience = 15) # patience stands for 15 epochs "
   ]
  },
  {
   "cell_type": "code",
   "execution_count": 14,
   "metadata": {
    "execution": {
     "iopub.execute_input": "2020-09-11T23:01:24.566813Z",
     "iopub.status.busy": "2020-09-11T23:01:24.563830Z",
     "iopub.status.idle": "2020-09-11T23:16:51.336312Z",
     "shell.execute_reply": "2020-09-11T23:16:51.337829Z"
    },
    "papermill": {
     "duration": 926.806533,
     "end_time": "2020-09-11T23:16:51.338038",
     "exception": false,
     "start_time": "2020-09-11T23:01:24.531505",
     "status": "completed"
    },
    "tags": []
   },
   "outputs": [
    {
     "name": "stdout",
     "output_type": "stream",
     "text": [
      "Epoch 1/75\n",
      "120/120 [==============================] - 13s 107ms/step - loss: 0.7431 - accuracy: 0.7476 - val_loss: 0.4991 - val_accuracy: 0.8138\n",
      "Epoch 2/75\n",
      "120/120 [==============================] - 12s 98ms/step - loss: 0.4477 - accuracy: 0.8434 - val_loss: 0.4243 - val_accuracy: 0.8506\n",
      "Epoch 3/75\n",
      "120/120 [==============================] - 12s 103ms/step - loss: 0.3996 - accuracy: 0.8604 - val_loss: 0.3793 - val_accuracy: 0.8700\n",
      "Epoch 4/75\n",
      "120/120 [==============================] - 12s 101ms/step - loss: 0.3755 - accuracy: 0.8703 - val_loss: 0.3690 - val_accuracy: 0.8689\n",
      "Epoch 5/75\n",
      "120/120 [==============================] - 12s 101ms/step - loss: 0.3508 - accuracy: 0.8774 - val_loss: 0.3494 - val_accuracy: 0.8784\n",
      "Epoch 6/75\n",
      "120/120 [==============================] - 13s 106ms/step - loss: 0.3321 - accuracy: 0.8835 - val_loss: 0.3319 - val_accuracy: 0.8860\n",
      "Epoch 7/75\n",
      "120/120 [==============================] - 12s 98ms/step - loss: 0.3222 - accuracy: 0.8866 - val_loss: 0.3187 - val_accuracy: 0.8861\n",
      "Epoch 8/75\n",
      "120/120 [==============================] - 12s 99ms/step - loss: 0.3090 - accuracy: 0.8920 - val_loss: 0.3099 - val_accuracy: 0.8917\n",
      "Epoch 9/75\n",
      "120/120 [==============================] - 12s 97ms/step - loss: 0.2960 - accuracy: 0.8953 - val_loss: 0.3137 - val_accuracy: 0.8892\n",
      "Epoch 10/75\n",
      "120/120 [==============================] - 12s 100ms/step - loss: 0.2881 - accuracy: 0.8990 - val_loss: 0.3039 - val_accuracy: 0.8873\n",
      "Epoch 11/75\n",
      "120/120 [==============================] - 12s 100ms/step - loss: 0.2823 - accuracy: 0.9002 - val_loss: 0.2888 - val_accuracy: 0.8978\n",
      "Epoch 12/75\n",
      "120/120 [==============================] - 12s 96ms/step - loss: 0.2746 - accuracy: 0.9029 - val_loss: 0.2862 - val_accuracy: 0.8965\n",
      "Epoch 13/75\n",
      "120/120 [==============================] - 12s 99ms/step - loss: 0.2657 - accuracy: 0.9063 - val_loss: 0.2851 - val_accuracy: 0.8967\n",
      "Epoch 14/75\n",
      "120/120 [==============================] - 12s 97ms/step - loss: 0.2607 - accuracy: 0.9070 - val_loss: 0.2794 - val_accuracy: 0.9019\n",
      "Epoch 15/75\n",
      "120/120 [==============================] - 12s 99ms/step - loss: 0.2504 - accuracy: 0.9102 - val_loss: 0.2851 - val_accuracy: 0.8974\n",
      "Epoch 16/75\n",
      "120/120 [==============================] - 13s 106ms/step - loss: 0.2480 - accuracy: 0.9132 - val_loss: 0.2729 - val_accuracy: 0.9028\n",
      "Epoch 17/75\n",
      "120/120 [==============================] - 12s 99ms/step - loss: 0.2401 - accuracy: 0.9151 - val_loss: 0.2689 - val_accuracy: 0.9050\n",
      "Epoch 18/75\n",
      "120/120 [==============================] - 12s 102ms/step - loss: 0.2343 - accuracy: 0.9166 - val_loss: 0.2756 - val_accuracy: 0.9013\n",
      "Epoch 19/75\n",
      "120/120 [==============================] - 12s 97ms/step - loss: 0.2301 - accuracy: 0.9173 - val_loss: 0.2614 - val_accuracy: 0.9059\n",
      "Epoch 20/75\n",
      "120/120 [==============================] - 12s 101ms/step - loss: 0.2231 - accuracy: 0.9205 - val_loss: 0.2639 - val_accuracy: 0.9056\n",
      "Epoch 21/75\n",
      "120/120 [==============================] - 12s 99ms/step - loss: 0.2182 - accuracy: 0.9211 - val_loss: 0.2593 - val_accuracy: 0.9090\n",
      "Epoch 22/75\n",
      "120/120 [==============================] - 12s 97ms/step - loss: 0.2144 - accuracy: 0.9230 - val_loss: 0.2646 - val_accuracy: 0.9073\n",
      "Epoch 23/75\n",
      "120/120 [==============================] - 12s 98ms/step - loss: 0.2096 - accuracy: 0.9243 - val_loss: 0.2549 - val_accuracy: 0.9095\n",
      "Epoch 24/75\n",
      "120/120 [==============================] - 12s 100ms/step - loss: 0.2087 - accuracy: 0.9251 - val_loss: 0.2540 - val_accuracy: 0.9103\n",
      "Epoch 25/75\n",
      "120/120 [==============================] - 12s 101ms/step - loss: 0.2025 - accuracy: 0.9265 - val_loss: 0.2568 - val_accuracy: 0.9084\n",
      "Epoch 26/75\n",
      "120/120 [==============================] - 12s 103ms/step - loss: 0.1989 - accuracy: 0.9284 - val_loss: 0.2515 - val_accuracy: 0.9127\n",
      "Epoch 27/75\n",
      "120/120 [==============================] - 11s 95ms/step - loss: 0.1945 - accuracy: 0.9300 - val_loss: 0.2572 - val_accuracy: 0.9084\n",
      "Epoch 28/75\n",
      "120/120 [==============================] - 11s 95ms/step - loss: 0.1923 - accuracy: 0.9304 - val_loss: 0.2625 - val_accuracy: 0.9085\n",
      "Epoch 29/75\n",
      "120/120 [==============================] - 12s 103ms/step - loss: 0.1874 - accuracy: 0.9325 - val_loss: 0.2507 - val_accuracy: 0.9131\n",
      "Epoch 30/75\n",
      "120/120 [==============================] - 12s 100ms/step - loss: 0.1867 - accuracy: 0.9321 - val_loss: 0.2535 - val_accuracy: 0.9104\n",
      "Epoch 31/75\n",
      "120/120 [==============================] - 12s 102ms/step - loss: 0.1822 - accuracy: 0.9334 - val_loss: 0.2612 - val_accuracy: 0.9112\n",
      "Epoch 32/75\n",
      "120/120 [==============================] - 12s 96ms/step - loss: 0.1779 - accuracy: 0.9351 - val_loss: 0.2467 - val_accuracy: 0.9152\n",
      "Epoch 33/75\n",
      "120/120 [==============================] - 12s 98ms/step - loss: 0.1774 - accuracy: 0.9357 - val_loss: 0.2527 - val_accuracy: 0.9129\n",
      "Epoch 34/75\n",
      "120/120 [==============================] - 12s 102ms/step - loss: 0.1725 - accuracy: 0.9363 - val_loss: 0.2474 - val_accuracy: 0.9113\n",
      "Epoch 35/75\n",
      "120/120 [==============================] - 12s 102ms/step - loss: 0.1701 - accuracy: 0.9377 - val_loss: 0.2508 - val_accuracy: 0.9137\n",
      "Epoch 36/75\n",
      "120/120 [==============================] - 12s 99ms/step - loss: 0.1671 - accuracy: 0.9392 - val_loss: 0.2512 - val_accuracy: 0.9133\n",
      "Epoch 37/75\n",
      "120/120 [==============================] - 12s 103ms/step - loss: 0.1664 - accuracy: 0.9391 - val_loss: 0.2506 - val_accuracy: 0.9085\n",
      "Epoch 38/75\n",
      "120/120 [==============================] - 11s 93ms/step - loss: 0.1636 - accuracy: 0.9406 - val_loss: 0.2607 - val_accuracy: 0.9112\n",
      "Epoch 39/75\n",
      "120/120 [==============================] - 12s 96ms/step - loss: 0.1625 - accuracy: 0.9407 - val_loss: 0.2492 - val_accuracy: 0.9152\n",
      "Epoch 40/75\n",
      "120/120 [==============================] - 13s 106ms/step - loss: 0.1597 - accuracy: 0.9414 - val_loss: 0.2511 - val_accuracy: 0.9160\n",
      "Epoch 41/75\n",
      "120/120 [==============================] - 12s 100ms/step - loss: 0.1547 - accuracy: 0.9435 - val_loss: 0.2466 - val_accuracy: 0.9167\n",
      "Epoch 42/75\n",
      "120/120 [==============================] - 12s 102ms/step - loss: 0.1519 - accuracy: 0.9442 - val_loss: 0.2475 - val_accuracy: 0.9167\n",
      "Epoch 43/75\n",
      "120/120 [==============================] - 12s 97ms/step - loss: 0.1531 - accuracy: 0.9426 - val_loss: 0.2554 - val_accuracy: 0.9148\n",
      "Epoch 44/75\n",
      "120/120 [==============================] - 12s 97ms/step - loss: 0.1490 - accuracy: 0.9454 - val_loss: 0.2559 - val_accuracy: 0.9176\n",
      "Epoch 45/75\n",
      "120/120 [==============================] - 13s 108ms/step - loss: 0.1479 - accuracy: 0.9464 - val_loss: 0.2471 - val_accuracy: 0.9182\n",
      "Epoch 46/75\n",
      "120/120 [==============================] - 12s 98ms/step - loss: 0.1429 - accuracy: 0.9471 - val_loss: 0.2475 - val_accuracy: 0.9166\n",
      "Epoch 47/75\n",
      "120/120 [==============================] - 11s 96ms/step - loss: 0.1435 - accuracy: 0.9470 - val_loss: 0.2528 - val_accuracy: 0.9146\n",
      "Epoch 48/75\n",
      "120/120 [==============================] - 12s 104ms/step - loss: 0.1407 - accuracy: 0.9484 - val_loss: 0.2640 - val_accuracy: 0.9100\n",
      "Epoch 49/75\n",
      "120/120 [==============================] - 11s 96ms/step - loss: 0.1398 - accuracy: 0.9481 - val_loss: 0.2534 - val_accuracy: 0.9162\n",
      "Epoch 50/75\n",
      "120/120 [==============================] - 26s 215ms/step - loss: 0.1342 - accuracy: 0.9514 - val_loss: 0.2512 - val_accuracy: 0.9158\n",
      "Epoch 51/75\n",
      "120/120 [==============================] - 11s 95ms/step - loss: 0.1373 - accuracy: 0.9497 - val_loss: 0.2521 - val_accuracy: 0.9173\n",
      "Epoch 52/75\n",
      "120/120 [==============================] - 12s 101ms/step - loss: 0.1309 - accuracy: 0.9522 - val_loss: 0.2590 - val_accuracy: 0.9137\n",
      "Epoch 53/75\n",
      "120/120 [==============================] - 12s 100ms/step - loss: 0.1291 - accuracy: 0.9529 - val_loss: 0.2520 - val_accuracy: 0.9162\n",
      "Epoch 54/75\n",
      "120/120 [==============================] - 12s 100ms/step - loss: 0.1312 - accuracy: 0.9524 - val_loss: 0.2666 - val_accuracy: 0.9136\n",
      "Epoch 55/75\n",
      "120/120 [==============================] - 12s 103ms/step - loss: 0.1280 - accuracy: 0.9528 - val_loss: 0.2577 - val_accuracy: 0.9161\n",
      "Epoch 56/75\n",
      "120/120 [==============================] - 11s 95ms/step - loss: 0.1237 - accuracy: 0.9555 - val_loss: 0.2622 - val_accuracy: 0.9161\n",
      "Epoch 57/75\n",
      "120/120 [==============================] - 12s 96ms/step - loss: 0.1214 - accuracy: 0.9551 - val_loss: 0.2646 - val_accuracy: 0.9142\n",
      "Epoch 58/75\n",
      "120/120 [==============================] - 12s 104ms/step - loss: 0.1222 - accuracy: 0.9542 - val_loss: 0.2682 - val_accuracy: 0.9154\n",
      "Epoch 59/75\n",
      "120/120 [==============================] - 12s 102ms/step - loss: 0.1213 - accuracy: 0.9553 - val_loss: 0.2621 - val_accuracy: 0.9156\n",
      "Epoch 60/75\n",
      "120/120 [==============================] - 12s 98ms/step - loss: 0.1215 - accuracy: 0.9546 - val_loss: 0.2658 - val_accuracy: 0.9158\n",
      "Epoch 61/75\n",
      "120/120 [==============================] - 13s 105ms/step - loss: 0.1144 - accuracy: 0.9585 - val_loss: 0.2670 - val_accuracy: 0.9161\n",
      "Epoch 62/75\n",
      "120/120 [==============================] - 12s 98ms/step - loss: 0.1165 - accuracy: 0.9571 - val_loss: 0.2664 - val_accuracy: 0.9163\n",
      "Epoch 63/75\n",
      "120/120 [==============================] - 12s 98ms/step - loss: 0.1162 - accuracy: 0.9566 - val_loss: 0.2686 - val_accuracy: 0.9137\n",
      "Epoch 64/75\n",
      "120/120 [==============================] - 13s 111ms/step - loss: 0.1132 - accuracy: 0.9585 - val_loss: 0.2642 - val_accuracy: 0.9182\n",
      "Epoch 65/75\n",
      "120/120 [==============================] - 12s 99ms/step - loss: 0.1122 - accuracy: 0.9587 - val_loss: 0.2666 - val_accuracy: 0.9173\n",
      "Epoch 66/75\n",
      "120/120 [==============================] - 13s 112ms/step - loss: 0.1112 - accuracy: 0.9590 - val_loss: 0.2761 - val_accuracy: 0.9160\n",
      "Epoch 67/75\n",
      "120/120 [==============================] - 12s 100ms/step - loss: 0.1103 - accuracy: 0.9584 - val_loss: 0.2754 - val_accuracy: 0.9174\n",
      "Epoch 68/75\n",
      "120/120 [==============================] - 11s 96ms/step - loss: 0.1063 - accuracy: 0.9611 - val_loss: 0.2740 - val_accuracy: 0.9156\n",
      "Epoch 69/75\n",
      "120/120 [==============================] - 13s 110ms/step - loss: 0.1051 - accuracy: 0.9614 - val_loss: 0.2791 - val_accuracy: 0.9158\n",
      "Epoch 70/75\n",
      "120/120 [==============================] - 12s 99ms/step - loss: 0.1041 - accuracy: 0.9604 - val_loss: 0.2808 - val_accuracy: 0.9160\n",
      "Epoch 71/75\n",
      "120/120 [==============================] - 12s 99ms/step - loss: 0.1037 - accuracy: 0.9616 - val_loss: 0.2729 - val_accuracy: 0.9158\n",
      "Epoch 72/75\n",
      "120/120 [==============================] - 13s 109ms/step - loss: 0.1025 - accuracy: 0.9618 - val_loss: 0.2832 - val_accuracy: 0.9153\n",
      "Epoch 73/75\n",
      "120/120 [==============================] - 12s 100ms/step - loss: 0.1007 - accuracy: 0.9639 - val_loss: 0.2834 - val_accuracy: 0.9147\n",
      "Epoch 74/75\n",
      "120/120 [==============================] - 12s 104ms/step - loss: 0.1014 - accuracy: 0.9626 - val_loss: 0.2782 - val_accuracy: 0.9172\n",
      "Epoch 75/75\n",
      "120/120 [==============================] - 14s 114ms/step - loss: 0.1011 - accuracy: 0.9628 - val_loss: 0.3102 - val_accuracy: 0.9082\n"
     ]
    }
   ],
   "source": [
    "history = model.fit(X_train, y_train, batch_size = 400, epochs = 75, verbose = 1, validation_data = (X_valid, y_valid))"
   ]
  },
  {
   "cell_type": "markdown",
   "metadata": {
    "papermill": {
     "duration": 3.161169,
     "end_time": "2020-09-11T23:16:57.639812",
     "exception": false,
     "start_time": "2020-09-11T23:16:54.478643",
     "status": "completed"
    },
    "tags": []
   },
   "source": [
    "It seems that our model is very accurate but we do have moderate loss (~around .3)."
   ]
  },
  {
   "cell_type": "code",
   "execution_count": 15,
   "metadata": {
    "execution": {
     "iopub.execute_input": "2020-09-11T23:17:03.710697Z",
     "iopub.status.busy": "2020-09-11T23:17:03.709990Z",
     "iopub.status.idle": "2020-09-11T23:17:04.095413Z",
     "shell.execute_reply": "2020-09-11T23:17:04.094735Z"
    },
    "papermill": {
     "duration": 3.42072,
     "end_time": "2020-09-11T23:17:04.095530",
     "exception": false,
     "start_time": "2020-09-11T23:17:00.674810",
     "status": "completed"
    },
    "tags": []
   },
   "outputs": [
    {
     "data": {
      "text/plain": [
       "<matplotlib.legend.Legend at 0x7fd014fb4490>"
      ]
     },
     "execution_count": 15,
     "metadata": {},
     "output_type": "execute_result"
    },
    {
     "data": {
      "image/png": "[encoded data removed]",
      "text/plain": [
       "<Figure size 1080x360 with 2 Axes>"
      ]
     },
     "metadata": {
      "needs_background": "light"
     },
     "output_type": "display_data"
    }
   ],
   "source": [
    "fig, ax = plt.subplots(1, 2, figsize = (15,5))\n",
    "ax[0].plot(history.history['accuracy'], label = 'Accuracy')\n",
    "ax[0].plot(history.history['val_accuracy'], label = 'Validation Accuracy')\n",
    "ax[0].set_title('Accuracy')\n",
    "ax[0].legend()\n",
    "\n",
    "ax[1].plot(history.history['loss'], label = 'Loss')\n",
    "ax[1].plot(history.history['val_loss'], label = 'Validation Loss')\n",
    "ax[1].set_title('Loss')\n",
    "ax[1].legend()"
   ]
  },
  {
   "cell_type": "markdown",
   "metadata": {
    "papermill": {
     "duration": 3.037242,
     "end_time": "2020-09-11T23:17:10.286458",
     "exception": false,
     "start_time": "2020-09-11T23:17:07.249216",
     "status": "completed"
    },
    "tags": []
   },
   "source": [
    "## Predictions"
   ]
  },
  {
   "cell_type": "code",
   "execution_count": 16,
   "metadata": {
    "execution": {
     "iopub.execute_input": "2020-09-11T23:17:16.485795Z",
     "iopub.status.busy": "2020-09-11T23:17:16.485130Z",
     "iopub.status.idle": "2020-09-11T23:17:18.142017Z",
     "shell.execute_reply": "2020-09-11T23:17:18.141418Z"
    },
    "papermill": {
     "duration": 4.768627,
     "end_time": "2020-09-11T23:17:18.142137",
     "exception": false,
     "start_time": "2020-09-11T23:17:13.373510",
     "status": "completed"
    },
    "tags": []
   },
   "outputs": [
    {
     "name": "stdout",
     "output_type": "stream",
     "text": [
      "313/313 [==============================] - 1s 5ms/step - loss: 0.2909 - accuracy: 0.9146\n",
      "Accuracy: 0.9146000146865845\n",
      "Loss: 0.2908690273761749\n"
     ]
    }
   ],
   "source": [
    "score = model.evaluate(X_test, y_test, verbose = 1)\n",
    "print('Accuracy: ' + str(score[1]))\n",
    "print('Loss: ' + str(score[0]))"
   ]
  },
  {
   "cell_type": "code",
   "execution_count": 17,
   "metadata": {
    "execution": {
     "iopub.execute_input": "2020-09-11T23:17:24.555127Z",
     "iopub.status.busy": "2020-09-11T23:17:24.553848Z",
     "iopub.status.idle": "2020-09-11T23:17:25.853999Z",
     "shell.execute_reply": "2020-09-11T23:17:25.854517Z"
    },
    "papermill": {
     "duration": 4.547709,
     "end_time": "2020-09-11T23:17:25.854683",
     "exception": false,
     "start_time": "2020-09-11T23:17:21.306974",
     "status": "completed"
    },
    "tags": []
   },
   "outputs": [],
   "source": [
    "predicted_classes = model.predict_classes(X_test)\n",
    "predicted_classes = predicted_classes.reshape(-1,1)\n",
    "y_true = test['label']\n",
    "\n",
    "pred_df = pd.DataFrame(predicted_classes)"
   ]
  },
  {
   "cell_type": "code",
   "execution_count": 18,
   "metadata": {
    "execution": {
     "iopub.execute_input": "2020-09-11T23:17:32.222969Z",
     "iopub.status.busy": "2020-09-11T23:17:32.222006Z",
     "iopub.status.idle": "2020-09-11T23:17:32.227060Z",
     "shell.execute_reply": "2020-09-11T23:17:32.226403Z"
    },
    "papermill": {
     "duration": 3.204649,
     "end_time": "2020-09-11T23:17:32.227176",
     "exception": false,
     "start_time": "2020-09-11T23:17:29.022527",
     "status": "completed"
    },
    "tags": []
   },
   "outputs": [],
   "source": [
    "pred_df['Actual'] = y_true"
   ]
  },
  {
   "cell_type": "code",
   "execution_count": 19,
   "metadata": {
    "execution": {
     "iopub.execute_input": "2020-09-11T23:17:38.479595Z",
     "iopub.status.busy": "2020-09-11T23:17:38.478908Z",
     "iopub.status.idle": "2020-09-11T23:17:38.498744Z",
     "shell.execute_reply": "2020-09-11T23:17:38.497985Z"
    },
    "papermill": {
     "duration": 3.127609,
     "end_time": "2020-09-11T23:17:38.498866",
     "exception": false,
     "start_time": "2020-09-11T23:17:35.371257",
     "status": "completed"
    },
    "tags": []
   },
   "outputs": [
    {
     "data": {
      "text/html": [
       "<div>\n",
       "<style scoped>\n",
       "    .dataframe tbody tr th:only-of-type {\n",
       "        vertical-align: middle;\n",
       "    }\n",
       "\n",
       "    .dataframe tbody tr th {\n",
       "        vertical-align: top;\n",
       "    }\n",
       "\n",
       "    .dataframe thead th {\n",
       "        text-align: right;\n",
       "    }\n",
       "</style>\n",
       "<table border=\"1\" class=\"dataframe\">\n",
       "  <thead>\n",
       "    <tr style=\"text-align: right;\">\n",
       "      <th></th>\n",
       "      <th>Predictions</th>\n",
       "      <th>Actual</th>\n",
       "    </tr>\n",
       "  </thead>\n",
       "  <tbody>\n",
       "    <tr>\n",
       "      <th>0</th>\n",
       "      <td>0</td>\n",
       "      <td>0</td>\n",
       "    </tr>\n",
       "    <tr>\n",
       "      <th>1</th>\n",
       "      <td>1</td>\n",
       "      <td>1</td>\n",
       "    </tr>\n",
       "    <tr>\n",
       "      <th>2</th>\n",
       "      <td>2</td>\n",
       "      <td>2</td>\n",
       "    </tr>\n",
       "    <tr>\n",
       "      <th>3</th>\n",
       "      <td>2</td>\n",
       "      <td>2</td>\n",
       "    </tr>\n",
       "    <tr>\n",
       "      <th>4</th>\n",
       "      <td>3</td>\n",
       "      <td>3</td>\n",
       "    </tr>\n",
       "    <tr>\n",
       "      <th>...</th>\n",
       "      <td>...</td>\n",
       "      <td>...</td>\n",
       "    </tr>\n",
       "    <tr>\n",
       "      <th>9995</th>\n",
       "      <td>0</td>\n",
       "      <td>0</td>\n",
       "    </tr>\n",
       "    <tr>\n",
       "      <th>9996</th>\n",
       "      <td>6</td>\n",
       "      <td>6</td>\n",
       "    </tr>\n",
       "    <tr>\n",
       "      <th>9997</th>\n",
       "      <td>8</td>\n",
       "      <td>8</td>\n",
       "    </tr>\n",
       "    <tr>\n",
       "      <th>9998</th>\n",
       "      <td>8</td>\n",
       "      <td>8</td>\n",
       "    </tr>\n",
       "    <tr>\n",
       "      <th>9999</th>\n",
       "      <td>1</td>\n",
       "      <td>1</td>\n",
       "    </tr>\n",
       "  </tbody>\n",
       "</table>\n",
       "<p>10000 rows × 2 columns</p>\n",
       "</div>"
      ],
      "text/plain": [
       "      Predictions  Actual\n",
       "0               0       0\n",
       "1               1       1\n",
       "2               2       2\n",
       "3               2       2\n",
       "4               3       3\n",
       "...           ...     ...\n",
       "9995            0       0\n",
       "9996            6       6\n",
       "9997            8       8\n",
       "9998            8       8\n",
       "9999            1       1\n",
       "\n",
       "[10000 rows x 2 columns]"
      ]
     },
     "execution_count": 19,
     "metadata": {},
     "output_type": "execute_result"
    }
   ],
   "source": [
    "cols = ['Predictions', 'Actual']\n",
    "pred_df.columns = [i for i in cols]\n",
    "pred_df"
   ]
  },
  {
   "cell_type": "code",
   "execution_count": 20,
   "metadata": {
    "execution": {
     "iopub.execute_input": "2020-09-11T23:17:44.659399Z",
     "iopub.status.busy": "2020-09-11T23:17:44.658667Z",
     "iopub.status.idle": "2020-09-11T23:17:44.662065Z",
     "shell.execute_reply": "2020-09-11T23:17:44.661502Z"
    },
    "papermill": {
     "duration": 3.03859,
     "end_time": "2020-09-11T23:17:44.662177",
     "exception": false,
     "start_time": "2020-09-11T23:17:41.623587",
     "status": "completed"
    },
    "tags": []
   },
   "outputs": [],
   "source": [
    "from sklearn.metrics import classification_report"
   ]
  },
  {
   "cell_type": "code",
   "execution_count": 21,
   "metadata": {
    "execution": {
     "iopub.execute_input": "2020-09-11T23:17:50.872228Z",
     "iopub.status.busy": "2020-09-11T23:17:50.871563Z",
     "iopub.status.idle": "2020-09-11T23:17:50.901093Z",
     "shell.execute_reply": "2020-09-11T23:17:50.901806Z"
    },
    "papermill": {
     "duration": 3.13067,
     "end_time": "2020-09-11T23:17:50.902067",
     "exception": false,
     "start_time": "2020-09-11T23:17:47.771397",
     "status": "completed"
    },
    "tags": []
   },
   "outputs": [
    {
     "name": "stdout",
     "output_type": "stream",
     "text": [
      "              precision    recall  f1-score   support\n",
      "\n",
      "           0       0.81      0.90      0.85      1000\n",
      "           1       0.99      0.98      0.98      1000\n",
      "           2       0.82      0.91      0.86      1000\n",
      "           3       0.90      0.94      0.92      1000\n",
      "           4       0.93      0.81      0.87      1000\n",
      "           5       0.99      0.98      0.98      1000\n",
      "           6       0.82      0.70      0.76      1000\n",
      "           7       0.97      0.95      0.96      1000\n",
      "           8       0.98      0.98      0.98      1000\n",
      "           9       0.96      0.98      0.97      1000\n",
      "\n",
      "    accuracy                           0.91     10000\n",
      "   macro avg       0.92      0.91      0.91     10000\n",
      "weighted avg       0.92      0.91      0.91     10000\n",
      "\n"
     ]
    }
   ],
   "source": [
    "classes = ['0', '1', '2', '3', '4', '5', '6', '7', '8', '9']\n",
    "\n",
    "print(classification_report(y_true, predicted_classes, target_names = classes))"
   ]
  }
 ],
 "metadata": {
  "kernelspec": {
   "display_name": "Python 3",
   "language": "python",
   "name": "python3"
  },
  "language_info": {
   "codemirror_mode": {
    "name": "ipython",
    "version": 3
   },
   "file_extension": ".py",
   "mimetype": "text/x-python",
   "name": "python",
   "nbconvert_exporter": "python",
   "pygments_lexer": "ipython3",
   "version": "3.7.6"
  },
  "papermill": {
   "duration": 1014.82958,
   "end_time": "2020-09-11T23:17:54.104448",
   "environment_variables": {},
   "exception": null,
   "input_path": "__notebook__.ipynb",
   "output_path": "__notebook__.ipynb",
   "parameters": {},
   "start_time": "2020-09-11T23:00:59.274868",
   "version": "2.1.0"
  }
 },
 "nbformat": 4,
 "nbformat_minor": 4
}
